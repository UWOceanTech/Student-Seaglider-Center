{
 "cells": [
  {
   "cell_type": "code",
   "execution_count": 2,
   "id": "9691115f-7b6b-4735-9745-4810e3ee479c",
   "metadata": {},
   "outputs": [],
   "source": [
    "import xarray as xr\n",
    "import pandas as pd\n",
    "import os"
   ]
  },
  {
   "cell_type": "code",
   "execution_count": 5,
   "id": "75b9a8b4-d955-423d-b7aa-b942e848801f",
   "metadata": {},
   "outputs": [
    {
     "name": "stdout",
     "output_type": "stream",
     "text": [
      "C:\\Users\\lydia\\Seagliders\n"
     ]
    },
    {
     "ename": "KeyError",
     "evalue": "'PAR'",
     "output_type": "error",
     "traceback": [
      "\u001b[31m---------------------------------------------------------------------------\u001b[39m",
      "\u001b[31mKeyError\u001b[39m                                  Traceback (most recent call last)",
      "\u001b[32m~\\AppData\\Local\\Programs\\Python\\Python313\\Lib\\site-packages\\xarray\\core\\dataset.py\u001b[39m in \u001b[36m?\u001b[39m\u001b[34m(self, names)\u001b[39m\n\u001b[32m   1115\u001b[39m                 variables[name] = self._variables[name]\n\u001b[32m   1116\u001b[39m             \u001b[38;5;28;01mexcept\u001b[39;00m KeyError:\n\u001b[32m-> \u001b[39m\u001b[32m1117\u001b[39m                 ref_name, var_name, var = _get_virtual_variable(\n\u001b[32m   1118\u001b[39m                     self._variables, name, self.sizes\n",
      "\u001b[31mKeyError\u001b[39m: 'PAR'",
      "\nDuring handling of the above exception, another exception occurred:\n",
      "\u001b[31mKeyError\u001b[39m                                  Traceback (most recent call last)",
      "\u001b[36mCell\u001b[39m\u001b[36m \u001b[39m\u001b[32mIn[5]\u001b[39m\u001b[32m, line 16\u001b[39m\n\u001b[32m     13\u001b[39m times_ds = times_ds.assign_coords(time=(\u001b[33m'\u001b[39m\u001b[33msg_data_point\u001b[39m\u001b[33m'\u001b[39m, adjusted_time))\n\u001b[32m     15\u001b[39m \u001b[38;5;66;03m#Select the relevant variables\u001b[39;00m\n\u001b[32m---> \u001b[39m\u001b[32m16\u001b[39m new_times_ds = \u001b[43mtimes_ds\u001b[49m\u001b[43m[\u001b[49m\u001b[43m[\u001b[49m\u001b[33;43m'\u001b[39;49m\u001b[33;43mtime\u001b[39;49m\u001b[33;43m'\u001b[39;49m\u001b[43m,\u001b[49m\u001b[43m \u001b[49m\u001b[33;43m'\u001b[39;49m\u001b[33;43mdepth\u001b[39;49m\u001b[33;43m'\u001b[39;49m\u001b[43m,\u001b[49m\u001b[43m \u001b[49m\u001b[33;43m'\u001b[39;49m\u001b[33;43mlatitude\u001b[39;49m\u001b[33;43m'\u001b[39;49m\u001b[43m,\u001b[49m\u001b[43m \u001b[49m\u001b[33;43m'\u001b[39;49m\u001b[33;43mlongitude\u001b[39;49m\u001b[33;43m'\u001b[39;49m\u001b[43m,\u001b[49m\u001b[33;43m'\u001b[39;49m\u001b[33;43mtemperature\u001b[39;49m\u001b[33;43m'\u001b[39;49m\u001b[43m,\u001b[49m\u001b[43m \u001b[49m\u001b[33;43m'\u001b[39;49m\u001b[33;43msalinity\u001b[39;49m\u001b[33;43m'\u001b[39;49m\u001b[43m,\u001b[49m\u001b[43m \u001b[49m\u001b[33;43m'\u001b[39;49m\u001b[33;43mdissolved_oxygen\u001b[39;49m\u001b[33;43m'\u001b[39;49m\u001b[43m,\u001b[49m\u001b[43m \u001b[49m\u001b[33;43m'\u001b[39;49m\u001b[33;43mPAR\u001b[39;49m\u001b[33;43m'\u001b[39;49m\u001b[43m,\u001b[49m\u001b[43m \u001b[49m\u001b[33;43m'\u001b[39;49m\u001b[33;43mparticle_concentration\u001b[39;49m\u001b[33;43m'\u001b[39;49m\u001b[43m,\u001b[49m\u001b[43m \u001b[49m\u001b[33;43m'\u001b[39;49m\u001b[33;43mchlorophyll\u001b[39;49m\u001b[33;43m'\u001b[39;49m\u001b[43m]\u001b[49m\u001b[43m]\u001b[49m\n\u001b[32m     17\u001b[39m \u001b[38;5;28mprint\u001b[39m(new_times_ds[\u001b[33m'\u001b[39m\u001b[33mtime\u001b[39m\u001b[33m'\u001b[39m][\u001b[32m0\u001b[39m])\n\u001b[32m     18\u001b[39m \u001b[38;5;66;03m#Convert to DataFrame and save\u001b[39;00m\n\u001b[32m     19\u001b[39m \u001b[38;5;66;03m#new_times_ds.to_dataframe().reset_index().to_csv('sg175_May_2025_UW_OTTER_(SG175)_timeseries_cleaned.csv', index=False)\u001b[39;00m\n\u001b[32m     20\u001b[39m \u001b[38;5;66;03m#new_times_ds.to_netcdf('sg175_May_2025_UW_OTTER_(SG175)_timeseries_cleaned.nc')\u001b[39;00m\n",
      "\u001b[36mFile \u001b[39m\u001b[32m~\\AppData\\Local\\Programs\\Python\\Python313\\Lib\\site-packages\\xarray\\core\\dataset.py:1268\u001b[39m, in \u001b[36mDataset.__getitem__\u001b[39m\u001b[34m(self, key)\u001b[39m\n\u001b[32m   1265\u001b[39m         \u001b[38;5;28;01mraise\u001b[39;00m \u001b[38;5;167;01mKeyError\u001b[39;00m(message) \u001b[38;5;28;01mfrom\u001b[39;00m\u001b[38;5;250m \u001b[39m\u001b[34;01me\u001b[39;00m\n\u001b[32m   1267\u001b[39m \u001b[38;5;28;01mif\u001b[39;00m utils.iterable_of_hashable(key):\n\u001b[32m-> \u001b[39m\u001b[32m1268\u001b[39m     \u001b[38;5;28;01mreturn\u001b[39;00m \u001b[38;5;28;43mself\u001b[39;49m\u001b[43m.\u001b[49m\u001b[43m_copy_listed\u001b[49m\u001b[43m(\u001b[49m\u001b[43mkey\u001b[49m\u001b[43m)\u001b[49m\n\u001b[32m   1269\u001b[39m \u001b[38;5;28;01mraise\u001b[39;00m \u001b[38;5;167;01mValueError\u001b[39;00m(\u001b[33mf\u001b[39m\u001b[33m\"\u001b[39m\u001b[33mUnsupported key-type \u001b[39m\u001b[38;5;132;01m{\u001b[39;00m\u001b[38;5;28mtype\u001b[39m(key)\u001b[38;5;132;01m}\u001b[39;00m\u001b[33m\"\u001b[39m)\n",
      "\u001b[36mFile \u001b[39m\u001b[32m~\\AppData\\Local\\Programs\\Python\\Python313\\Lib\\site-packages\\xarray\\core\\dataset.py:1117\u001b[39m, in \u001b[36mDataset._copy_listed\u001b[39m\u001b[34m(self, names)\u001b[39m\n\u001b[32m   1115\u001b[39m     variables[name] = \u001b[38;5;28mself\u001b[39m._variables[name]\n\u001b[32m   1116\u001b[39m \u001b[38;5;28;01mexcept\u001b[39;00m \u001b[38;5;167;01mKeyError\u001b[39;00m:\n\u001b[32m-> \u001b[39m\u001b[32m1117\u001b[39m     ref_name, var_name, var = \u001b[43m_get_virtual_variable\u001b[49m\u001b[43m(\u001b[49m\n\u001b[32m   1118\u001b[39m \u001b[43m        \u001b[49m\u001b[38;5;28;43mself\u001b[39;49m\u001b[43m.\u001b[49m\u001b[43m_variables\u001b[49m\u001b[43m,\u001b[49m\u001b[43m \u001b[49m\u001b[43mname\u001b[49m\u001b[43m,\u001b[49m\u001b[43m \u001b[49m\u001b[38;5;28;43mself\u001b[39;49m\u001b[43m.\u001b[49m\u001b[43msizes\u001b[49m\n\u001b[32m   1119\u001b[39m \u001b[43m    \u001b[49m\u001b[43m)\u001b[49m\n\u001b[32m   1120\u001b[39m     variables[var_name] = var\n\u001b[32m   1121\u001b[39m     \u001b[38;5;28;01mif\u001b[39;00m ref_name \u001b[38;5;129;01min\u001b[39;00m \u001b[38;5;28mself\u001b[39m._coord_names \u001b[38;5;129;01mor\u001b[39;00m ref_name \u001b[38;5;129;01min\u001b[39;00m \u001b[38;5;28mself\u001b[39m.dims:\n",
      "\u001b[36mFile \u001b[39m\u001b[32m~\\AppData\\Local\\Programs\\Python\\Python313\\Lib\\site-packages\\xarray\\core\\dataset_utils.py:79\u001b[39m, in \u001b[36m_get_virtual_variable\u001b[39m\u001b[34m(variables, key, dim_sizes)\u001b[39m\n\u001b[32m     77\u001b[39m split_key = key.split(\u001b[33m\"\u001b[39m\u001b[33m.\u001b[39m\u001b[33m\"\u001b[39m, \u001b[32m1\u001b[39m)\n\u001b[32m     78\u001b[39m \u001b[38;5;28;01mif\u001b[39;00m \u001b[38;5;28mlen\u001b[39m(split_key) != \u001b[32m2\u001b[39m:\n\u001b[32m---> \u001b[39m\u001b[32m79\u001b[39m     \u001b[38;5;28;01mraise\u001b[39;00m \u001b[38;5;167;01mKeyError\u001b[39;00m(key)\n\u001b[32m     81\u001b[39m ref_name, var_name = split_key\n\u001b[32m     82\u001b[39m ref_var = variables[ref_name]\n",
      "\u001b[31mKeyError\u001b[39m: 'PAR'"
     ]
    }
   ],
   "source": [
    "print(os.getcwd())\n",
    "#Load the dataset\n",
    "times_ds = xr.open_dataset('sg194_May_2025_UW_OTTER_(SG194)_timeseries.nc')\n",
    "\n",
    "#Align time with sg_data_point and apply offset (if needed)\n",
    "adjusted_time = pd.to_datetime(times_ds['time'].values) + pd.DateOffset(years=0, months=0, days=0)\n",
    "\n",
    "times_ds['dissolved_oxygen'] = times_ds['dissolved_oxygen_sat']\n",
    "times_ds['PAR_470nm'] = times_ds['eng_wlbb2fl_sig470nm']\n",
    "times_ds['particle_concentration_700nm'] = times_ds['eng_wlbb2fl_sig700nm']\n",
    "times_ds['chlorophyll_695nm'] = times_ds['eng_wlbb2fl_sig695nm']\n",
    "\n",
    "times_ds = times_ds.assign_coords(time=('sg_data_point', adjusted_time))\n",
    "\n",
    "#Select the relevant variables\n",
    "new_times_ds = times_ds[['time', 'depth', 'latitude', 'longitude','temperature', 'salinity', 'dissolved_oxygen', 'PAR_', 'particle_concentration', 'chlorophyll']]\n",
    "print(new_times_ds['time'][0])\n",
    "#Convert to DataFrame and save\n",
    "#new_times_ds.to_dataframe().reset_index().to_csv('sg175_May_2025_UW_OTTER_(SG175)_timeseries_cleaned.csv', index=False)\n",
    "#new_times_ds.to_netcdf('sg175_May_2025_UW_OTTER_(SG175)_timeseries_cleaned.nc')"
   ]
  },
  {
   "cell_type": "code",
   "execution_count": null,
   "id": "d6c8bb10-eb7b-45e9-9516-5c62572dcc48",
   "metadata": {},
   "outputs": [],
   "source": []
  }
 ],
 "metadata": {
  "kernelspec": {
   "display_name": "Python 3 (ipykernel)",
   "language": "python",
   "name": "python3"
  },
  "language_info": {
   "codemirror_mode": {
    "name": "ipython",
    "version": 3
   },
   "file_extension": ".py",
   "mimetype": "text/x-python",
   "name": "python",
   "nbconvert_exporter": "python",
   "pygments_lexer": "ipython3",
   "version": "3.13.3"
  }
 },
 "nbformat": 4,
 "nbformat_minor": 5
}

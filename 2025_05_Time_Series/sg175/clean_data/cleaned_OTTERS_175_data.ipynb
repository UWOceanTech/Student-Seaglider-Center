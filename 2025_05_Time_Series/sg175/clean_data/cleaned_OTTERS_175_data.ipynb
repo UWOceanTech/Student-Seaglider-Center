{
 "cells": [
  {
   "cell_type": "code",
   "execution_count": 5,
   "id": "9691115f-7b6b-4735-9745-4810e3ee479c",
   "metadata": {},
   "outputs": [],
   "source": [
    "import xarray as xr\n",
    "import pandas as pd\n",
    "import os"
   ]
  },
  {
   "cell_type": "code",
   "execution_count": null,
   "id": "75b9a8b4-d955-423d-b7aa-b942e848801f",
   "metadata": {},
   "outputs": [
    {
     "name": "stdout",
     "output_type": "stream",
     "text": [
      "C:\\Users\\lydia\\Seagliders\n",
      "<xarray.DataArray 'time' ()> Size: 8B\n",
      "array('2025-05-30T19:25:53.948999936', dtype='datetime64[ns]')\n",
      "Coordinates:\n",
      "    time       datetime64[ns] 8B 2025-05-30T19:25:53.948999936\n",
      "    latitude   float32 4B ...\n",
      "    longitude  float32 4B ...\n",
      "    ctd_time   datetime64[ns] 8B ...\n",
      "    ctd_depth  float32 4B ...\n"
     ]
    }
   ],
   "source": [
    "print(os.getcwd())\n",
    "#Load the dataset\n",
    "times_ds = xr.open_dataset('sg175_May_2025_UW_OTTER_(SG175)_timeseries.nc')\n",
    "\n",
    "#Align time with sg_data_point and apply offset\n",
    "adjusted_time = pd.to_datetime(times_ds['time'].values) + pd.DateOffset(years=0, months=0, days=0)\n",
    "\n",
    "times_ds['dissolved_oxygen'] = times_ds['dissolved_oxygen_sat']\n",
    "\n",
    "times_ds = times_ds.assign_coords(time=('sg_data_point', adjusted_time))\n",
    "\n",
    "#Select the relevant variables\n",
    "new_times_ds = times_ds[['time', 'depth', 'latitude', 'longitude','temperature', 'salinity', 'dissolved_oxygen']] \n",
    "print(new_times_ds['time'][0])\n",
    "#Convert to DataFrame and save\n",
    "new_times_ds.to_dataframe().reset_index().to_csv('sg175_May_2025_UW_OTTER_(SG175)_timeseries_cleaned.csv', index=False)\n",
    "new_times_ds.to_netcdf('sg175_May_2025_UW_OTTER_(SG175)_timeseries_cleaned.nc')"
   ]
  },
  {
   "cell_type": "code",
   "execution_count": null,
   "id": "d6c8bb10-eb7b-45e9-9516-5c62572dcc48",
   "metadata": {},
   "outputs": [],
   "source": []
  }
 ],
 "metadata": {
  "kernelspec": {
   "display_name": "Python 3 (ipykernel)",
   "language": "python",
   "name": "python3"
  },
  "language_info": {
   "codemirror_mode": {
    "name": "ipython",
    "version": 3
   },
   "file_extension": ".py",
   "mimetype": "text/x-python",
   "name": "python",
   "nbconvert_exporter": "python",
   "pygments_lexer": "ipython3",
   "version": "3.13.3"
  }
 },
 "nbformat": 4,
 "nbformat_minor": 5
}
